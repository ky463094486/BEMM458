{
  "nbformat": 4,
  "nbformat_minor": 5,
  "metadata": {
    "kernelspec": {
      "display_name": "Python 3",
      "language": "python",
      "name": "python3"
    },
    "language_info": {
      "codemirror_mode": {
        "name": "ipython",
        "version": 3
      },
      "file_extension": ".py",
      "mimetype": "text/x-python",
      "name": "python",
      "nbconvert_exporter": "python",
      "pygments_lexer": "ipython3",
      "version": "3.9.0"
    },
    "colab": {
      "name": "Test 2. My second data science project DISTRIBUTION READY.ipynb",
      "provenance": []
    }
  },
  "cells": [
    {
      "cell_type": "markdown",
      "metadata": {
        "id": "SEJ4sIA36cK_"
      },
      "source": [
        "# Test 2. My second data science project"
      ],
      "id": "SEJ4sIA36cK_"
    },
    {
      "cell_type": "code",
      "metadata": {
        "id": "dOGjq2gh6cLE"
      },
      "source": [
        ""
      ],
      "id": "dOGjq2gh6cLE",
      "execution_count": null,
      "outputs": []
    },
    {
      "cell_type": "markdown",
      "metadata": {
        "id": "yHwRV1vg6cLE"
      },
      "source": [
        "## In this lab you will apply the concepts and techniques developed in previous sessions. You are expected to work on the assignments on your own DURING the duration of the lab.\n",
        "## You are expected to submit the code developed as well as a brief description of your findings and insights for each assigment AT THE END of the lab. \n",
        "\n",
        "## This lab represents 20% of the total marking of the module¶"
      ],
      "id": "yHwRV1vg6cLE"
    },
    {
      "cell_type": "code",
      "metadata": {
        "id": "3ufGsKIS6cLF"
      },
      "source": [
        ""
      ],
      "id": "3ufGsKIS6cLF",
      "execution_count": null,
      "outputs": []
    },
    {
      "cell_type": "code",
      "metadata": {
        "id": "5GvKoXZE6cLF"
      },
      "source": [
        "import json\n",
        "import pandas as pd\n",
        "import seaborn as sns\n",
        "\n",
        "import numpy as np\n",
        "import matplotlib.pyplot as plt\n",
        "import re\n",
        "import math"
      ],
      "id": "5GvKoXZE6cLF",
      "execution_count": 1,
      "outputs": []
    },
    {
      "cell_type": "code",
      "metadata": {
        "colab": {
          "base_uri": "https://localhost:8080/",
          "height": 17
        },
        "id": "NDEgOq4a6cLG",
        "outputId": "b5ae983c-26e3-4bbf-fd96-08fb283b9012"
      },
      "source": [
        "from IPython.core.display import display, HTML\n",
        "display(HTML(\"<style>.container { width:100% !important; }</style>\"))"
      ],
      "id": "NDEgOq4a6cLG",
      "execution_count": 2,
      "outputs": [
        {
          "output_type": "display_data",
          "data": {
            "text/html": [
              "<style>.container { width:100% !important; }</style>"
            ],
            "text/plain": [
              "<IPython.core.display.HTML object>"
            ]
          },
          "metadata": {
            "tags": []
          }
        }
      ]
    },
    {
      "cell_type": "code",
      "metadata": {
        "colab": {
          "base_uri": "https://localhost:8080/"
        },
        "id": "GtGQ5zE66cLH",
        "outputId": "7389ad18-8802-4c77-cbc9-02f8cda3860b"
      },
      "source": [
        "!pip install -U spacy==2.2.3\n"
      ],
      "id": "GtGQ5zE66cLH",
      "execution_count": 3,
      "outputs": [
        {
          "output_type": "stream",
          "text": [
            "Collecting spacy==2.2.3\n",
            "\u001b[?25l  Downloading https://files.pythonhosted.org/packages/91/76/1f30264c433f9c3c84171fa03f4b6bb5f3303df7781d21554d25045873f4/spacy-2.2.3-cp37-cp37m-manylinux1_x86_64.whl (10.4MB)\n",
            "\u001b[K     |████████████████████████████████| 10.4MB 4.1MB/s \n",
            "\u001b[?25hRequirement already satisfied, skipping upgrade: setuptools in /usr/local/lib/python3.7/dist-packages (from spacy==2.2.3) (54.1.2)\n",
            "Requirement already satisfied, skipping upgrade: catalogue<1.1.0,>=0.0.7 in /usr/local/lib/python3.7/dist-packages (from spacy==2.2.3) (1.0.0)\n",
            "Requirement already satisfied, skipping upgrade: preshed<3.1.0,>=3.0.2 in /usr/local/lib/python3.7/dist-packages (from spacy==2.2.3) (3.0.5)\n",
            "Requirement already satisfied, skipping upgrade: wasabi<1.1.0,>=0.4.0 in /usr/local/lib/python3.7/dist-packages (from spacy==2.2.3) (0.8.2)\n",
            "Requirement already satisfied, skipping upgrade: murmurhash<1.1.0,>=0.28.0 in /usr/local/lib/python3.7/dist-packages (from spacy==2.2.3) (1.0.5)\n",
            "Requirement already satisfied, skipping upgrade: plac<1.2.0,>=0.9.6 in /usr/local/lib/python3.7/dist-packages (from spacy==2.2.3) (1.1.3)\n",
            "Collecting thinc<7.4.0,>=7.3.0\n",
            "\u001b[?25l  Downloading https://files.pythonhosted.org/packages/32/53/d11d2faa6921e55c37ad2cd56b0866a9e6df647fb547cfb69a50059d759c/thinc-7.3.1-cp37-cp37m-manylinux1_x86_64.whl (2.2MB)\n",
            "\u001b[K     |████████████████████████████████| 2.2MB 50.7MB/s \n",
            "\u001b[?25hRequirement already satisfied, skipping upgrade: srsly<1.1.0,>=0.1.0 in /usr/local/lib/python3.7/dist-packages (from spacy==2.2.3) (1.0.5)\n",
            "Requirement already satisfied, skipping upgrade: requests<3.0.0,>=2.13.0 in /usr/local/lib/python3.7/dist-packages (from spacy==2.2.3) (2.23.0)\n",
            "Requirement already satisfied, skipping upgrade: blis<0.5.0,>=0.4.0 in /usr/local/lib/python3.7/dist-packages (from spacy==2.2.3) (0.4.1)\n",
            "Requirement already satisfied, skipping upgrade: numpy>=1.15.0 in /usr/local/lib/python3.7/dist-packages (from spacy==2.2.3) (1.19.5)\n",
            "Requirement already satisfied, skipping upgrade: cymem<2.1.0,>=2.0.2 in /usr/local/lib/python3.7/dist-packages (from spacy==2.2.3) (2.0.5)\n",
            "Requirement already satisfied, skipping upgrade: importlib-metadata>=0.20; python_version < \"3.8\" in /usr/local/lib/python3.7/dist-packages (from catalogue<1.1.0,>=0.0.7->spacy==2.2.3) (3.7.2)\n",
            "Requirement already satisfied, skipping upgrade: tqdm<5.0.0,>=4.10.0 in /usr/local/lib/python3.7/dist-packages (from thinc<7.4.0,>=7.3.0->spacy==2.2.3) (4.41.1)\n",
            "Requirement already satisfied, skipping upgrade: chardet<4,>=3.0.2 in /usr/local/lib/python3.7/dist-packages (from requests<3.0.0,>=2.13.0->spacy==2.2.3) (3.0.4)\n",
            "Requirement already satisfied, skipping upgrade: urllib3!=1.25.0,!=1.25.1,<1.26,>=1.21.1 in /usr/local/lib/python3.7/dist-packages (from requests<3.0.0,>=2.13.0->spacy==2.2.3) (1.24.3)\n",
            "Requirement already satisfied, skipping upgrade: certifi>=2017.4.17 in /usr/local/lib/python3.7/dist-packages (from requests<3.0.0,>=2.13.0->spacy==2.2.3) (2020.12.5)\n",
            "Requirement already satisfied, skipping upgrade: idna<3,>=2.5 in /usr/local/lib/python3.7/dist-packages (from requests<3.0.0,>=2.13.0->spacy==2.2.3) (2.10)\n",
            "Requirement already satisfied, skipping upgrade: zipp>=0.5 in /usr/local/lib/python3.7/dist-packages (from importlib-metadata>=0.20; python_version < \"3.8\"->catalogue<1.1.0,>=0.0.7->spacy==2.2.3) (3.4.1)\n",
            "Requirement already satisfied, skipping upgrade: typing-extensions>=3.6.4; python_version < \"3.8\" in /usr/local/lib/python3.7/dist-packages (from importlib-metadata>=0.20; python_version < \"3.8\"->catalogue<1.1.0,>=0.0.7->spacy==2.2.3) (3.7.4.3)\n",
            "Installing collected packages: thinc, spacy\n",
            "  Found existing installation: thinc 7.4.0\n",
            "    Uninstalling thinc-7.4.0:\n",
            "      Successfully uninstalled thinc-7.4.0\n",
            "  Found existing installation: spacy 2.2.4\n",
            "    Uninstalling spacy-2.2.4:\n",
            "      Successfully uninstalled spacy-2.2.4\n",
            "Successfully installed spacy-2.2.3 thinc-7.3.1\n"
          ],
          "name": "stdout"
        }
      ]
    },
    {
      "cell_type": "code",
      "metadata": {
        "colab": {
          "base_uri": "https://localhost:8080/"
        },
        "id": "flWhPhaT6cLI",
        "outputId": "5135ae0c-eb2e-4409-c0bf-c1c6f3a7dfe2"
      },
      "source": [
        "!python -m spacy download en_core_web_sm"
      ],
      "id": "flWhPhaT6cLI",
      "execution_count": 4,
      "outputs": [
        {
          "output_type": "stream",
          "text": [
            "Requirement already satisfied: en_core_web_sm==2.2.5 from https://github.com/explosion/spacy-models/releases/download/en_core_web_sm-2.2.5/en_core_web_sm-2.2.5.tar.gz#egg=en_core_web_sm==2.2.5 in /usr/local/lib/python3.7/dist-packages (2.2.5)\n",
            "Requirement already satisfied: spacy>=2.2.2 in /usr/local/lib/python3.7/dist-packages (from en_core_web_sm==2.2.5) (2.2.3)\n",
            "Requirement already satisfied: thinc<7.4.0,>=7.3.0 in /usr/local/lib/python3.7/dist-packages (from spacy>=2.2.2->en_core_web_sm==2.2.5) (7.3.1)\n",
            "Requirement already satisfied: catalogue<1.1.0,>=0.0.7 in /usr/local/lib/python3.7/dist-packages (from spacy>=2.2.2->en_core_web_sm==2.2.5) (1.0.0)\n",
            "Requirement already satisfied: wasabi<1.1.0,>=0.4.0 in /usr/local/lib/python3.7/dist-packages (from spacy>=2.2.2->en_core_web_sm==2.2.5) (0.8.2)\n",
            "Requirement already satisfied: srsly<1.1.0,>=0.1.0 in /usr/local/lib/python3.7/dist-packages (from spacy>=2.2.2->en_core_web_sm==2.2.5) (1.0.5)\n",
            "Requirement already satisfied: setuptools in /usr/local/lib/python3.7/dist-packages (from spacy>=2.2.2->en_core_web_sm==2.2.5) (54.1.2)\n",
            "Requirement already satisfied: plac<1.2.0,>=0.9.6 in /usr/local/lib/python3.7/dist-packages (from spacy>=2.2.2->en_core_web_sm==2.2.5) (1.1.3)\n",
            "Requirement already satisfied: blis<0.5.0,>=0.4.0 in /usr/local/lib/python3.7/dist-packages (from spacy>=2.2.2->en_core_web_sm==2.2.5) (0.4.1)\n",
            "Requirement already satisfied: numpy>=1.15.0 in /usr/local/lib/python3.7/dist-packages (from spacy>=2.2.2->en_core_web_sm==2.2.5) (1.19.5)\n",
            "Requirement already satisfied: requests<3.0.0,>=2.13.0 in /usr/local/lib/python3.7/dist-packages (from spacy>=2.2.2->en_core_web_sm==2.2.5) (2.23.0)\n",
            "Requirement already satisfied: preshed<3.1.0,>=3.0.2 in /usr/local/lib/python3.7/dist-packages (from spacy>=2.2.2->en_core_web_sm==2.2.5) (3.0.5)\n",
            "Requirement already satisfied: murmurhash<1.1.0,>=0.28.0 in /usr/local/lib/python3.7/dist-packages (from spacy>=2.2.2->en_core_web_sm==2.2.5) (1.0.5)\n",
            "Requirement already satisfied: cymem<2.1.0,>=2.0.2 in /usr/local/lib/python3.7/dist-packages (from spacy>=2.2.2->en_core_web_sm==2.2.5) (2.0.5)\n",
            "Requirement already satisfied: tqdm<5.0.0,>=4.10.0 in /usr/local/lib/python3.7/dist-packages (from thinc<7.4.0,>=7.3.0->spacy>=2.2.2->en_core_web_sm==2.2.5) (4.41.1)\n",
            "Requirement already satisfied: importlib-metadata>=0.20; python_version < \"3.8\" in /usr/local/lib/python3.7/dist-packages (from catalogue<1.1.0,>=0.0.7->spacy>=2.2.2->en_core_web_sm==2.2.5) (3.7.2)\n",
            "Requirement already satisfied: chardet<4,>=3.0.2 in /usr/local/lib/python3.7/dist-packages (from requests<3.0.0,>=2.13.0->spacy>=2.2.2->en_core_web_sm==2.2.5) (3.0.4)\n",
            "Requirement already satisfied: idna<3,>=2.5 in /usr/local/lib/python3.7/dist-packages (from requests<3.0.0,>=2.13.0->spacy>=2.2.2->en_core_web_sm==2.2.5) (2.10)\n",
            "Requirement already satisfied: certifi>=2017.4.17 in /usr/local/lib/python3.7/dist-packages (from requests<3.0.0,>=2.13.0->spacy>=2.2.2->en_core_web_sm==2.2.5) (2020.12.5)\n",
            "Requirement already satisfied: urllib3!=1.25.0,!=1.25.1,<1.26,>=1.21.1 in /usr/local/lib/python3.7/dist-packages (from requests<3.0.0,>=2.13.0->spacy>=2.2.2->en_core_web_sm==2.2.5) (1.24.3)\n",
            "Requirement already satisfied: typing-extensions>=3.6.4; python_version < \"3.8\" in /usr/local/lib/python3.7/dist-packages (from importlib-metadata>=0.20; python_version < \"3.8\"->catalogue<1.1.0,>=0.0.7->spacy>=2.2.2->en_core_web_sm==2.2.5) (3.7.4.3)\n",
            "Requirement already satisfied: zipp>=0.5 in /usr/local/lib/python3.7/dist-packages (from importlib-metadata>=0.20; python_version < \"3.8\"->catalogue<1.1.0,>=0.0.7->spacy>=2.2.2->en_core_web_sm==2.2.5) (3.4.1)\n",
            "\u001b[38;5;2m✔ Download and installation successful\u001b[0m\n",
            "You can now load the model via spacy.load('en_core_web_sm')\n"
          ],
          "name": "stdout"
        }
      ]
    },
    {
      "cell_type": "code",
      "metadata": {
        "colab": {
          "base_uri": "https://localhost:8080/"
        },
        "id": "L3FTm7n16cLI",
        "outputId": "7070123e-b45d-419e-c65f-aa047d847649"
      },
      "source": [
        "!pip install spacy-langdetect"
      ],
      "id": "L3FTm7n16cLI",
      "execution_count": 5,
      "outputs": [
        {
          "output_type": "stream",
          "text": [
            "Collecting spacy-langdetect\n",
            "  Downloading https://files.pythonhosted.org/packages/29/70/72dad19abe81ca8e85ff951da170915211d42d705a001d7e353af349a704/spacy_langdetect-0.1.2-py3-none-any.whl\n",
            "Requirement already satisfied: pytest in /usr/local/lib/python3.7/dist-packages (from spacy-langdetect) (3.6.4)\n",
            "Collecting langdetect==1.0.7\n",
            "\u001b[?25l  Downloading https://files.pythonhosted.org/packages/59/59/4bc44158a767a6d66de18c4136c8aa90491d56cc951c10b74dd1e13213c9/langdetect-1.0.7.zip (998kB)\n",
            "\u001b[K     |████████████████████████████████| 1.0MB 4.7MB/s \n",
            "\u001b[?25hRequirement already satisfied: atomicwrites>=1.0 in /usr/local/lib/python3.7/dist-packages (from pytest->spacy-langdetect) (1.4.0)\n",
            "Requirement already satisfied: attrs>=17.4.0 in /usr/local/lib/python3.7/dist-packages (from pytest->spacy-langdetect) (20.3.0)\n",
            "Requirement already satisfied: pluggy<0.8,>=0.5 in /usr/local/lib/python3.7/dist-packages (from pytest->spacy-langdetect) (0.7.1)\n",
            "Requirement already satisfied: six>=1.10.0 in /usr/local/lib/python3.7/dist-packages (from pytest->spacy-langdetect) (1.15.0)\n",
            "Requirement already satisfied: setuptools in /usr/local/lib/python3.7/dist-packages (from pytest->spacy-langdetect) (54.1.2)\n",
            "Requirement already satisfied: py>=1.5.0 in /usr/local/lib/python3.7/dist-packages (from pytest->spacy-langdetect) (1.10.0)\n",
            "Requirement already satisfied: more-itertools>=4.0.0 in /usr/local/lib/python3.7/dist-packages (from pytest->spacy-langdetect) (8.7.0)\n",
            "Building wheels for collected packages: langdetect\n",
            "  Building wheel for langdetect (setup.py) ... \u001b[?25l\u001b[?25hdone\n",
            "  Created wheel for langdetect: filename=langdetect-1.0.7-cp37-none-any.whl size=993460 sha256=7e6227b2b73ff0871f76901af3869f3f566961797d1063349fb2edc2694fada9\n",
            "  Stored in directory: /root/.cache/pip/wheels/ec/0c/a9/1647275e7ef5014e7b83ff30105180e332867d65e7617ddafe\n",
            "Successfully built langdetect\n",
            "Installing collected packages: langdetect, spacy-langdetect\n",
            "Successfully installed langdetect-1.0.7 spacy-langdetect-0.1.2\n"
          ],
          "name": "stdout"
        }
      ]
    },
    {
      "cell_type": "code",
      "metadata": {
        "colab": {
          "base_uri": "https://localhost:8080/"
        },
        "id": "yF8mA7FT6cLI",
        "outputId": "492f65dc-1441-473c-bffa-3ec251377563"
      },
      "source": [
        "!pip install spacy-readability"
      ],
      "id": "yF8mA7FT6cLI",
      "execution_count": 6,
      "outputs": [
        {
          "output_type": "stream",
          "text": [
            "Collecting spacy-readability\n",
            "\u001b[?25l  Downloading https://files.pythonhosted.org/packages/68/9e/e8d9cdf0d54fa5fa0c6463bc6d0385c37deb5dc65a4cfe2c612a02a06869/spacy_readability-1.4.1-py3-none-any.whl (49kB)\n",
            "\r\u001b[K     |██████▋                         | 10kB 14.7MB/s eta 0:00:01\r\u001b[K     |█████████████▏                  | 20kB 12.4MB/s eta 0:00:01\r\u001b[K     |███████████████████▊            | 30kB 8.5MB/s eta 0:00:01\r\u001b[K     |██████████████████████████▎     | 40kB 6.9MB/s eta 0:00:01\r\u001b[K     |████████████████████████████████| 51kB 2.6MB/s \n",
            "\u001b[?25hCollecting syllapy<1,>=0\n",
            "  Downloading https://files.pythonhosted.org/packages/11/31/e13c6b0ed7a95f46c3af20df2b995877ea179b88a90ec39122e0621dae08/syllapy-0.7.1-py3-none-any.whl\n",
            "Requirement already satisfied: spacy<3.0,>=2.0 in /usr/local/lib/python3.7/dist-packages (from spacy-readability) (2.2.3)\n",
            "Collecting ujson<2.0,>=1.35\n",
            "\u001b[?25l  Downloading https://files.pythonhosted.org/packages/16/c4/79f3409bc710559015464e5f49b9879430d8f87498ecdc335899732e5377/ujson-1.35.tar.gz (192kB)\n",
            "\u001b[K     |████████████████████████████████| 194kB 8.3MB/s \n",
            "\u001b[?25hRequirement already satisfied: blis<0.5.0,>=0.4.0 in /usr/local/lib/python3.7/dist-packages (from spacy<3.0,>=2.0->spacy-readability) (0.4.1)\n",
            "Requirement already satisfied: plac<1.2.0,>=0.9.6 in /usr/local/lib/python3.7/dist-packages (from spacy<3.0,>=2.0->spacy-readability) (1.1.3)\n",
            "Requirement already satisfied: murmurhash<1.1.0,>=0.28.0 in /usr/local/lib/python3.7/dist-packages (from spacy<3.0,>=2.0->spacy-readability) (1.0.5)\n",
            "Requirement already satisfied: cymem<2.1.0,>=2.0.2 in /usr/local/lib/python3.7/dist-packages (from spacy<3.0,>=2.0->spacy-readability) (2.0.5)\n",
            "Requirement already satisfied: srsly<1.1.0,>=0.1.0 in /usr/local/lib/python3.7/dist-packages (from spacy<3.0,>=2.0->spacy-readability) (1.0.5)\n",
            "Requirement already satisfied: preshed<3.1.0,>=3.0.2 in /usr/local/lib/python3.7/dist-packages (from spacy<3.0,>=2.0->spacy-readability) (3.0.5)\n",
            "Requirement already satisfied: numpy>=1.15.0 in /usr/local/lib/python3.7/dist-packages (from spacy<3.0,>=2.0->spacy-readability) (1.19.5)\n",
            "Requirement already satisfied: wasabi<1.1.0,>=0.4.0 in /usr/local/lib/python3.7/dist-packages (from spacy<3.0,>=2.0->spacy-readability) (0.8.2)\n",
            "Requirement already satisfied: requests<3.0.0,>=2.13.0 in /usr/local/lib/python3.7/dist-packages (from spacy<3.0,>=2.0->spacy-readability) (2.23.0)\n",
            "Requirement already satisfied: setuptools in /usr/local/lib/python3.7/dist-packages (from spacy<3.0,>=2.0->spacy-readability) (54.1.2)\n",
            "Requirement already satisfied: catalogue<1.1.0,>=0.0.7 in /usr/local/lib/python3.7/dist-packages (from spacy<3.0,>=2.0->spacy-readability) (1.0.0)\n",
            "Requirement already satisfied: thinc<7.4.0,>=7.3.0 in /usr/local/lib/python3.7/dist-packages (from spacy<3.0,>=2.0->spacy-readability) (7.3.1)\n",
            "Requirement already satisfied: certifi>=2017.4.17 in /usr/local/lib/python3.7/dist-packages (from requests<3.0.0,>=2.13.0->spacy<3.0,>=2.0->spacy-readability) (2020.12.5)\n",
            "Requirement already satisfied: idna<3,>=2.5 in /usr/local/lib/python3.7/dist-packages (from requests<3.0.0,>=2.13.0->spacy<3.0,>=2.0->spacy-readability) (2.10)\n",
            "Requirement already satisfied: chardet<4,>=3.0.2 in /usr/local/lib/python3.7/dist-packages (from requests<3.0.0,>=2.13.0->spacy<3.0,>=2.0->spacy-readability) (3.0.4)\n",
            "Requirement already satisfied: urllib3!=1.25.0,!=1.25.1,<1.26,>=1.21.1 in /usr/local/lib/python3.7/dist-packages (from requests<3.0.0,>=2.13.0->spacy<3.0,>=2.0->spacy-readability) (1.24.3)\n",
            "Requirement already satisfied: importlib-metadata>=0.20; python_version < \"3.8\" in /usr/local/lib/python3.7/dist-packages (from catalogue<1.1.0,>=0.0.7->spacy<3.0,>=2.0->spacy-readability) (3.7.2)\n",
            "Requirement already satisfied: tqdm<5.0.0,>=4.10.0 in /usr/local/lib/python3.7/dist-packages (from thinc<7.4.0,>=7.3.0->spacy<3.0,>=2.0->spacy-readability) (4.41.1)\n",
            "Requirement already satisfied: zipp>=0.5 in /usr/local/lib/python3.7/dist-packages (from importlib-metadata>=0.20; python_version < \"3.8\"->catalogue<1.1.0,>=0.0.7->spacy<3.0,>=2.0->spacy-readability) (3.4.1)\n",
            "Requirement already satisfied: typing-extensions>=3.6.4; python_version < \"3.8\" in /usr/local/lib/python3.7/dist-packages (from importlib-metadata>=0.20; python_version < \"3.8\"->catalogue<1.1.0,>=0.0.7->spacy<3.0,>=2.0->spacy-readability) (3.7.4.3)\n",
            "Building wheels for collected packages: ujson\n",
            "  Building wheel for ujson (setup.py) ... \u001b[?25l\u001b[?25hdone\n",
            "  Created wheel for ujson: filename=ujson-1.35-cp37-cp37m-linux_x86_64.whl size=68378 sha256=8d9d2ebb822a2d1eebc6939d9c8f661fd17d935c60e0b896d54bf4ba54647037\n",
            "  Stored in directory: /root/.cache/pip/wheels/28/77/e4/0311145b9c2e2f01470e744855131f9e34d6919687550f87d1\n",
            "Successfully built ujson\n",
            "Installing collected packages: ujson, syllapy, spacy-readability\n",
            "Successfully installed spacy-readability-1.4.1 syllapy-0.7.1 ujson-1.35\n"
          ],
          "name": "stdout"
        }
      ]
    },
    {
      "cell_type": "code",
      "metadata": {
        "id": "CM3b8lS76cLJ"
      },
      "source": [
        ""
      ],
      "id": "CM3b8lS76cLJ",
      "execution_count": null,
      "outputs": []
    },
    {
      "cell_type": "code",
      "metadata": {
        "id": "8rZpokCu6cLJ"
      },
      "source": [
        "import spacy\n",
        "from spacy import displacy\n",
        "from spacy_readability import Readability"
      ],
      "id": "8rZpokCu6cLJ",
      "execution_count": 10,
      "outputs": []
    },
    {
      "cell_type": "code",
      "metadata": {
        "id": "f7R9Dj9G6cLJ"
      },
      "source": [
        "# Create the nlp object\n",
        "nlp = spacy.load(\"en_core_web_sm\")"
      ],
      "id": "f7R9Dj9G6cLJ",
      "execution_count": 11,
      "outputs": []
    },
    {
      "cell_type": "code",
      "metadata": {
        "id": "Azbb5VUW6cLJ"
      },
      "source": [
        ""
      ],
      "id": "Azbb5VUW6cLJ",
      "execution_count": null,
      "outputs": []
    },
    {
      "cell_type": "code",
      "metadata": {
        "id": "9iezsGMK6cLK"
      },
      "source": [
        "donaldTrumpData1=pd.read_csv('./data/realdonaldtrump1.csv')\n",
        "donaldTrumpData2=pd.read_csv('./data/realdonaldtrump2.csv')"
      ],
      "id": "9iezsGMK6cLK",
      "execution_count": 13,
      "outputs": []
    },
    {
      "cell_type": "code",
      "metadata": {
        "id": "cLjHpUmV6cLK"
      },
      "source": [
        ""
      ],
      "id": "cLjHpUmV6cLK",
      "execution_count": null,
      "outputs": []
    },
    {
      "cell_type": "code",
      "metadata": {
        "id": "j1oOHfVq6cLK"
      },
      "source": [
        "TrumpTweets=pd.read_csv('./data/realdonaldtrump.csv')"
      ],
      "id": "j1oOHfVq6cLK",
      "execution_count": 14,
      "outputs": []
    },
    {
      "cell_type": "code",
      "metadata": {
        "id": "uSwCw9Di6cLK"
      },
      "source": [
        ""
      ],
      "id": "uSwCw9Di6cLK",
      "execution_count": null,
      "outputs": []
    },
    {
      "cell_type": "markdown",
      "metadata": {
        "id": "9_k022Uy6cLK"
      },
      "source": [
        "## Question 1. Merge the two dataframes donaldTrumpData1 and donaldTrumpData2 into a single dataframe"
      ],
      "id": "9_k022Uy6cLK"
    },
    {
      "cell_type": "code",
      "metadata": {
        "id": "e5Iw95lT6cLL"
      },
      "source": [
        "donaldTrumpData = pd.merge(donaldTrumpData1, donaldTrumpData2)"
      ],
      "id": "e5Iw95lT6cLL",
      "execution_count": 18,
      "outputs": []
    },
    {
      "cell_type": "code",
      "metadata": {
        "colab": {
          "base_uri": "https://localhost:8080/",
          "height": 380
        },
        "id": "BPOHAaPY6cLL",
        "outputId": "a9e5a55b-6a44-47b8-849f-db1efe8e55c0"
      },
      "source": [
        "donaldTrumpData.head()"
      ],
      "id": "BPOHAaPY6cLL",
      "execution_count": 19,
      "outputs": [
        {
          "output_type": "execute_result",
          "data": {
            "text/html": [
              "<div>\n",
              "<style scoped>\n",
              "    .dataframe tbody tr th:only-of-type {\n",
              "        vertical-align: middle;\n",
              "    }\n",
              "\n",
              "    .dataframe tbody tr th {\n",
              "        vertical-align: top;\n",
              "    }\n",
              "\n",
              "    .dataframe thead th {\n",
              "        text-align: right;\n",
              "    }\n",
              "</style>\n",
              "<table border=\"1\" class=\"dataframe\">\n",
              "  <thead>\n",
              "    <tr style=\"text-align: right;\">\n",
              "      <th></th>\n",
              "      <th>Unnamed: 0</th>\n",
              "      <th>id</th>\n",
              "      <th>link</th>\n",
              "      <th>content</th>\n",
              "      <th>date</th>\n",
              "      <th>retweets</th>\n",
              "      <th>favorites</th>\n",
              "      <th>mentions</th>\n",
              "      <th>hashtags</th>\n",
              "    </tr>\n",
              "  </thead>\n",
              "  <tbody>\n",
              "    <tr>\n",
              "      <th>0</th>\n",
              "      <td>0</td>\n",
              "      <td>1698308935</td>\n",
              "      <td>https://twitter.com/realDonaldTrump/status/169...</td>\n",
              "      <td>Be sure to tune in and watch Donald Trump on L...</td>\n",
              "      <td>2009-05-04 13:54:25</td>\n",
              "      <td>510</td>\n",
              "      <td>917</td>\n",
              "      <td>NaN</td>\n",
              "      <td>NaN</td>\n",
              "    </tr>\n",
              "    <tr>\n",
              "      <th>1</th>\n",
              "      <td>1</td>\n",
              "      <td>1701461182</td>\n",
              "      <td>https://twitter.com/realDonaldTrump/status/170...</td>\n",
              "      <td>Donald Trump will be appearing on The View tom...</td>\n",
              "      <td>2009-05-04 20:00:10</td>\n",
              "      <td>34</td>\n",
              "      <td>267</td>\n",
              "      <td>NaN</td>\n",
              "      <td>NaN</td>\n",
              "    </tr>\n",
              "    <tr>\n",
              "      <th>2</th>\n",
              "      <td>2</td>\n",
              "      <td>1737479987</td>\n",
              "      <td>https://twitter.com/realDonaldTrump/status/173...</td>\n",
              "      <td>Donald Trump reads Top Ten Financial Tips on L...</td>\n",
              "      <td>2009-05-08 08:38:08</td>\n",
              "      <td>13</td>\n",
              "      <td>19</td>\n",
              "      <td>NaN</td>\n",
              "      <td>NaN</td>\n",
              "    </tr>\n",
              "    <tr>\n",
              "      <th>3</th>\n",
              "      <td>3</td>\n",
              "      <td>1741160716</td>\n",
              "      <td>https://twitter.com/realDonaldTrump/status/174...</td>\n",
              "      <td>New Blog Post: Celebrity Apprentice Finale and...</td>\n",
              "      <td>2009-05-08 15:40:15</td>\n",
              "      <td>11</td>\n",
              "      <td>26</td>\n",
              "      <td>NaN</td>\n",
              "      <td>NaN</td>\n",
              "    </tr>\n",
              "    <tr>\n",
              "      <th>4</th>\n",
              "      <td>4</td>\n",
              "      <td>1773561338</td>\n",
              "      <td>https://twitter.com/realDonaldTrump/status/177...</td>\n",
              "      <td>\"My persona will never be that of a wallflower...</td>\n",
              "      <td>2009-05-12 09:07:28</td>\n",
              "      <td>1375</td>\n",
              "      <td>1945</td>\n",
              "      <td>NaN</td>\n",
              "      <td>NaN</td>\n",
              "    </tr>\n",
              "  </tbody>\n",
              "</table>\n",
              "</div>"
            ],
            "text/plain": [
              "   Unnamed: 0          id  ... mentions hashtags\n",
              "0           0  1698308935  ...      NaN      NaN\n",
              "1           1  1701461182  ...      NaN      NaN\n",
              "2           2  1737479987  ...      NaN      NaN\n",
              "3           3  1741160716  ...      NaN      NaN\n",
              "4           4  1773561338  ...      NaN      NaN\n",
              "\n",
              "[5 rows x 9 columns]"
            ]
          },
          "metadata": {
            "tags": []
          },
          "execution_count": 19
        }
      ]
    },
    {
      "cell_type": "code",
      "metadata": {
        "id": "rzLDjqJk6cLL"
      },
      "source": [
        ""
      ],
      "id": "rzLDjqJk6cLL",
      "execution_count": null,
      "outputs": []
    },
    {
      "cell_type": "markdown",
      "metadata": {
        "id": "Jyfa3ZhQ6cLL"
      },
      "source": [
        "## Question 2. Define a function that takes an argument and returns the floor of x, the largest integer less than or equal to x. (https://docs.python.org/3/library/math.html)\n"
      ],
      "id": "Jyfa3ZhQ6cLL"
    },
    {
      "cell_type": "code",
      "metadata": {
        "id": "CUKO-y-Z6cLL"
      },
      "source": [
        "import math\n",
        "def func(x):\n",
        "  return math.floor(x)\n"
      ],
      "id": "CUKO-y-Z6cLL",
      "execution_count": 22,
      "outputs": []
    },
    {
      "cell_type": "markdown",
      "metadata": {
        "id": "l6OA7boq6cLL"
      },
      "source": [
        "## Question 3. Make the previous function robust to exceptions raised by inputs of type \"string\"\n",
        "### Tip. refer to lab 9.2"
      ],
      "id": "l6OA7boq6cLL"
    },
    {
      "cell_type": "code",
      "metadata": {
        "id": "FxtvtZ886cLL"
      },
      "source": [
        "def func(x):\n",
        "  try:\n",
        "    x = math.floor(x)\n",
        "    return x\n",
        "  except:\n",
        "    print(\"{} is a string\".format(x))\n",
        "  return None\n"
      ],
      "id": "FxtvtZ886cLL",
      "execution_count": 23,
      "outputs": []
    },
    {
      "cell_type": "markdown",
      "metadata": {
        "id": "4vAOKIbY6cLM"
      },
      "source": [
        "## Question 4. Implement a lambda function to compute the hexadecimal value to the column \"retweets\" in the dataframe TrumpTweets\n",
        "\n",
        "### Tip: Refer to lab 8.1 (apply lambda functions)\n",
        "### Tip: Refer to the hex function https://www.w3schools.com/python/ref_func_hex.asp"
      ],
      "id": "4vAOKIbY6cLM"
    },
    {
      "cell_type": "code",
      "metadata": {
        "colab": {
          "base_uri": "https://localhost:8080/"
        },
        "id": "p9Sq4-gR6cLM",
        "outputId": "99e049dc-f574-4679-c88a-d75983c0c5bd"
      },
      "source": [
        "TrumpTweets[\"retweets\"].apply(lambda x: hex(x))"
      ],
      "id": "p9Sq4-gR6cLM",
      "execution_count": 26,
      "outputs": [
        {
          "output_type": "execute_result",
          "data": {
            "text/plain": [
              "0         0x1fe\n",
              "1          0x22\n",
              "2           0xd\n",
              "3           0xb\n",
              "4         0x55f\n",
              "          ...  \n",
              "43347    0x5b6a\n",
              "43348    0x2e22\n",
              "43349    0x135f\n",
              "43350    0x1213\n",
              "43351     0xf6f\n",
              "Name: retweets, Length: 43352, dtype: object"
            ]
          },
          "metadata": {
            "tags": []
          },
          "execution_count": 26
        }
      ]
    },
    {
      "cell_type": "code",
      "metadata": {
        "id": "F32XM63n6cLM"
      },
      "source": [
        ""
      ],
      "id": "F32XM63n6cLM",
      "execution_count": null,
      "outputs": []
    },
    {
      "cell_type": "code",
      "metadata": {
        "id": "DcgMBC496cLM"
      },
      "source": [
        ""
      ],
      "id": "DcgMBC496cLM",
      "execution_count": null,
      "outputs": []
    },
    {
      "cell_type": "markdown",
      "metadata": {
        "id": "8kPHHyGL6cLM"
      },
      "source": [
        "## Question 5. Select all rows containing @ from the column content in the dataframe TrumpTweets"
      ],
      "id": "8kPHHyGL6cLM"
    },
    {
      "cell_type": "markdown",
      "metadata": {
        "id": "yegeFEDA6cLM"
      },
      "source": [
        "\n",
        "### Refer to lab 7.1 for an example on how to apply regex to a dataframe\n",
        "### Refer to the following link for information on how to extract @:  https://stackoverflow.com/questions/37807244/python-to-extract-the-user-and-url-link-in-twitter-text-data-with-regex\n"
      ],
      "id": "yegeFEDA6cLM"
    },
    {
      "cell_type": "code",
      "metadata": {
        "id": "jxPl4YU96cLN"
      },
      "source": [
        "import re"
      ],
      "id": "jxPl4YU96cLN",
      "execution_count": 27,
      "outputs": []
    },
    {
      "cell_type": "code",
      "metadata": {
        "colab": {
          "base_uri": "https://localhost:8080/",
          "height": 926
        },
        "id": "ZQNUW1ui6cLN",
        "outputId": "01a925ab-526f-49ff-fe60-614c72540c05"
      },
      "source": [
        "TrumpTweets[TrumpTweets.content.str.contains('@', regex=True)]"
      ],
      "id": "ZQNUW1ui6cLN",
      "execution_count": 31,
      "outputs": [
        {
          "output_type": "execute_result",
          "data": {
            "text/html": [
              "<div>\n",
              "<style scoped>\n",
              "    .dataframe tbody tr th:only-of-type {\n",
              "        vertical-align: middle;\n",
              "    }\n",
              "\n",
              "    .dataframe tbody tr th {\n",
              "        vertical-align: top;\n",
              "    }\n",
              "\n",
              "    .dataframe thead th {\n",
              "        text-align: right;\n",
              "    }\n",
              "</style>\n",
              "<table border=\"1\" class=\"dataframe\">\n",
              "  <thead>\n",
              "    <tr style=\"text-align: right;\">\n",
              "      <th></th>\n",
              "      <th>id</th>\n",
              "      <th>link</th>\n",
              "      <th>content</th>\n",
              "      <th>date</th>\n",
              "      <th>retweets</th>\n",
              "      <th>favorites</th>\n",
              "      <th>mentions</th>\n",
              "      <th>hashtags</th>\n",
              "    </tr>\n",
              "  </thead>\n",
              "  <tbody>\n",
              "    <tr>\n",
              "      <th>39</th>\n",
              "      <td>3308367056</td>\n",
              "      <td>https://twitter.com/realDonaldTrump/status/330...</td>\n",
              "      <td>Ivanka is now on Twitter - You can follow her ...</td>\n",
              "      <td>2009-08-14 09:33:46</td>\n",
              "      <td>38</td>\n",
              "      <td>55</td>\n",
              "      <td>@IvankaTrump</td>\n",
              "      <td>NaN</td>\n",
              "    </tr>\n",
              "    <tr>\n",
              "      <th>41</th>\n",
              "      <td>3450626731</td>\n",
              "      <td>https://twitter.com/realDonaldTrump/status/345...</td>\n",
              "      <td>Watch the Miss Universe competition LIVE from ...</td>\n",
              "      <td>2009-08-21 09:32:45</td>\n",
              "      <td>14</td>\n",
              "      <td>5</td>\n",
              "      <td>@9pm</td>\n",
              "      <td>NaN</td>\n",
              "    </tr>\n",
              "    <tr>\n",
              "      <th>42</th>\n",
              "      <td>3498743628</td>\n",
              "      <td>https://twitter.com/realDonaldTrump/status/349...</td>\n",
              "      <td>Reminder: The Miss Universe competition will b...</td>\n",
              "      <td>2009-08-23 16:12:37</td>\n",
              "      <td>10</td>\n",
              "      <td>12</td>\n",
              "      <td>@9pm</td>\n",
              "      <td>NaN</td>\n",
              "    </tr>\n",
              "    <tr>\n",
              "      <th>59</th>\n",
              "      <td>8083871612</td>\n",
              "      <td>https://twitter.com/realDonaldTrump/status/808...</td>\n",
              "      <td>Golf Channel &amp; Donald Trump's World of Golf ho...</td>\n",
              "      <td>2010-01-22 14:51:00</td>\n",
              "      <td>19</td>\n",
              "      <td>5</td>\n",
              "      <td>@TNGC</td>\n",
              "      <td>NaN</td>\n",
              "    </tr>\n",
              "    <tr>\n",
              "      <th>64</th>\n",
              "      <td>10027087487</td>\n",
              "      <td>https://twitter.com/realDonaldTrump/status/100...</td>\n",
              "      <td>From Donald Trump: Andrea Bocelli @Mar-a-Lago ...</td>\n",
              "      <td>2010-03-05 08:51:32</td>\n",
              "      <td>11</td>\n",
              "      <td>10</td>\n",
              "      <td>@Mar</td>\n",
              "      <td>NaN</td>\n",
              "    </tr>\n",
              "    <tr>\n",
              "      <th>...</th>\n",
              "      <td>...</td>\n",
              "      <td>...</td>\n",
              "      <td>...</td>\n",
              "      <td>...</td>\n",
              "      <td>...</td>\n",
              "      <td>...</td>\n",
              "      <td>...</td>\n",
              "      <td>...</td>\n",
              "    </tr>\n",
              "    <tr>\n",
              "      <th>43324</th>\n",
              "      <td>1272154842753110018</td>\n",
              "      <td>https://twitter.com/realDonaldTrump/status/127...</td>\n",
              "      <td>Michael Moore: I‘m ‘Begging‘ Dems -- Don‘t Und...</td>\n",
              "      <td>2020-06-14 08:12:04</td>\n",
              "      <td>16518</td>\n",
              "      <td>64490</td>\n",
              "      <td>@BreitbartNews</td>\n",
              "      <td>NaN</td>\n",
              "    </tr>\n",
              "    <tr>\n",
              "      <th>43341</th>\n",
              "      <td>1273032175718449155</td>\n",
              "      <td>https://twitter.com/realDonaldTrump/status/127...</td>\n",
              "      <td>Chris Jacobs ( @ JacobsNY27) will be a tremend...</td>\n",
              "      <td>2020-06-16 18:18:17</td>\n",
              "      <td>9802</td>\n",
              "      <td>35418</td>\n",
              "      <td>@JacobsNY27</td>\n",
              "      <td>#NY27https</td>\n",
              "    </tr>\n",
              "    <tr>\n",
              "      <th>43342</th>\n",
              "      <td>1273034110353707008</td>\n",
              "      <td>https://twitter.com/realDonaldTrump/status/127...</td>\n",
              "      <td>Congressman @ LeeZeldin is a fighter for New Y...</td>\n",
              "      <td>2020-06-16 18:25:58</td>\n",
              "      <td>12070</td>\n",
              "      <td>45048</td>\n",
              "      <td>@LeeZeldin</td>\n",
              "      <td>NaN</td>\n",
              "    </tr>\n",
              "    <tr>\n",
              "      <th>43343</th>\n",
              "      <td>1273038952275095558</td>\n",
              "      <td>https://twitter.com/realDonaldTrump/status/127...</td>\n",
              "      <td>. @ LyndaBennettNC has my Complete &amp; Total End...</td>\n",
              "      <td>2020-06-16 18:45:12</td>\n",
              "      <td>10263</td>\n",
              "      <td>37476</td>\n",
              "      <td>@LyndaBennettNC</td>\n",
              "      <td>NaN</td>\n",
              "    </tr>\n",
              "    <tr>\n",
              "      <th>43348</th>\n",
              "      <td>1273408026968457216</td>\n",
              "      <td>https://twitter.com/realDonaldTrump/status/127...</td>\n",
              "      <td>Will be interviewed on @ seanhannity tonight a...</td>\n",
              "      <td>2020-06-17 19:11:47</td>\n",
              "      <td>11810</td>\n",
              "      <td>56659</td>\n",
              "      <td>@seanhannity</td>\n",
              "      <td>NaN</td>\n",
              "    </tr>\n",
              "  </tbody>\n",
              "</table>\n",
              "<p>23009 rows × 8 columns</p>\n",
              "</div>"
            ],
            "text/plain": [
              "                        id  ...    hashtags\n",
              "39              3308367056  ...         NaN\n",
              "41              3450626731  ...         NaN\n",
              "42              3498743628  ...         NaN\n",
              "59              8083871612  ...         NaN\n",
              "64             10027087487  ...         NaN\n",
              "...                    ...  ...         ...\n",
              "43324  1272154842753110018  ...         NaN\n",
              "43341  1273032175718449155  ...  #NY27https\n",
              "43342  1273034110353707008  ...         NaN\n",
              "43343  1273038952275095558  ...         NaN\n",
              "43348  1273408026968457216  ...         NaN\n",
              "\n",
              "[23009 rows x 8 columns]"
            ]
          },
          "metadata": {
            "tags": []
          },
          "execution_count": 31
        }
      ]
    },
    {
      "cell_type": "code",
      "metadata": {
        "id": "vlJsAGvj6cLN"
      },
      "source": [
        ""
      ],
      "id": "vlJsAGvj6cLN",
      "execution_count": null,
      "outputs": []
    },
    {
      "cell_type": "code",
      "metadata": {
        "id": "KC5z10wD6cLN"
      },
      "source": [
        ""
      ],
      "id": "KC5z10wD6cLN",
      "execution_count": null,
      "outputs": []
    },
    {
      "cell_type": "code",
      "metadata": {
        "id": "i0tPT7by6cLN"
      },
      "source": [
        ""
      ],
      "id": "i0tPT7by6cLN",
      "execution_count": null,
      "outputs": []
    }
  ]
}